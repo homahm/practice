{
 "cells": [
  {
   "cell_type": "markdown",
   "metadata": {},
   "source": [
    "Leetcode\n",
    "\n",
    "## example 1 - easy\n",
    "\n",
    "Given an array of integers, return indices of the two numbers such that they add up to a specific target.\n",
    "\n",
    "You may assume that each input would have exactly one solution, and you may not use the same element twice.\n",
    "\n",
    "Example:\n",
    "Given nums = [2, 7, 11, 15], target = 9,\n",
    "\n",
    "Because nums[0] + nums[1] = 2 + 7 = 9,\n",
    "return [0, 1]."
   ]
  },
  {
   "cell_type": "code",
   "execution_count": 46,
   "metadata": {
    "collapsed": false
   },
   "outputs": [],
   "source": [
    "class Solution(object):\n",
    "    def twoSum(self, nums, target):        \n",
    "        for ii in range(0,len(nums)):\n",
    "            if (target - nums[ii]) in nums and ii!= nums.index(target - nums[ii]):\n",
    "                    return (ii, nums.index(target - nums[ii]))\n",
    "        "
   ]
  },
  {
   "cell_type": "code",
   "execution_count": 49,
   "metadata": {
    "collapsed": false
   },
   "outputs": [
    {
     "name": "stdout",
     "output_type": "stream",
     "text": [
      "(4, 3)\n"
     ]
    }
   ],
   "source": [
    "nums = [2,1,9,4,4,56,90,3]\n",
    "target = 8\n",
    "\n",
    "X = Solution()\n",
    "print X.twoSum(nums,target)"
   ]
  },
  {
   "cell_type": "markdown",
   "metadata": {},
   "source": [
    "## example 2 - medium\n",
    "\n",
    "Given a string, find the length of the longest substring without repeating characters.\n",
    "\n",
    "Examples:\n",
    "\n",
    "Given \"abcabcbb\", the answer is \"abc\", which the length is 3.\n",
    "\n",
    "Given \"bbbbb\", the answer is \"b\", with the length of 1.\n",
    "\n",
    "Given \"pwwkew\", the answer is \"wke\", with the length of 3. Note that the answer must be a substring, \"pwke\" is a subsequence and not a substring.\n",
    "\n",
    "Subscribe to see which companies asked this question.\n",
    "\n"
   ]
  },
  {
   "cell_type": "code",
   "execution_count": 63,
   "metadata": {
    "collapsed": true
   },
   "outputs": [],
   "source": [
    "class Solution(object):\n",
    "    def lengthOfLongestSubstring(self, s):\n",
    "        \"\"\"\n",
    "        :type s: str\n",
    "        :rtype: int\n",
    "        \"\"\"\n",
    "        if len(s) == 0:\n",
    "            return 0 \n",
    "            \n",
    "        l = []\n",
    "        subs = s[0]\n",
    "        for ii in range(1,len(s)):        \n",
    "            if subs.find(s[ii])==-1:\n",
    "                subs = subs + s[ii]\n",
    "            else:\n",
    "               \n",
    "                l.append(subs) \n",
    "                subs = subs[subs.find(s[ii])+1:]+s[ii]\n",
    "                \n",
    "        l.append(subs) \n",
    "        ll = [len(x) for x in l ]   \n",
    "\n",
    "        return max(ll)\n"
   ]
  },
  {
   "cell_type": "code",
   "execution_count": 64,
   "metadata": {
    "collapsed": false
   },
   "outputs": [
    {
     "name": "stdout",
     "output_type": "stream",
     "text": [
      "3\n"
     ]
    }
   ],
   "source": [
    "s = \"abcabcbb\"\n",
    "X = Solution()\n",
    "print X.lengthOfLongestSubstring(s)"
   ]
  },
  {
   "cell_type": "markdown",
   "metadata": {},
   "source": [
    "## example 3 - medium\n",
    "\n",
    "Given a string s, find the longest palindromic substring in s. You may assume that the maximum length of s is 1000.\n",
    "\n",
    "Example:\n",
    "\n",
    "Input: \"babad\"\n",
    "\n",
    "Output: \"bab\"\n",
    "\n",
    "Note: \"aba\" is also a valid answer.\n",
    "Example:\n",
    "\n",
    "Input: \"cbbd\"\n",
    "\n",
    "Output: \"bb\""
   ]
  },
  {
   "cell_type": "markdown",
   "metadata": {},
   "source": [
    "## example 4 - easy\n",
    "\n",
    "Note: Write a solution with O(n2) time complexity, since this is what you would be asked to do during a real interview.\n",
    "\n",
    "You have an array a composed of exactly n elements. Given a number x, determine whether or not a contains three elements for which the sum is exactly x.\n",
    "\n",
    "Example\n",
    "\n",
    "For x = 15 and a = [14, 1, 2, 3, 8, 15, 3], the output should be\n",
    "tripletSum(x, a) = false;\n",
    "\n",
    "For x = 8 and a = [1, 1, 2, 5, 3], the output should be\n",
    "tripletSum(x, a) = true.\n",
    "\n",
    "The given array contains the elements 1,2, and 5, which add up to 8."
   ]
  },
  {
   "cell_type": "code",
   "execution_count": 48,
   "metadata": {
    "collapsed": false
   },
   "outputs": [
    {
     "name": "stdout",
     "output_type": "stream",
     "text": [
      "[3, 2, 4]\n",
      "False\n"
     ]
    }
   ],
   "source": [
    " \n",
    "x= 15\n",
    "a= [14, 1, 2, 3, 8, 15, 3]\n",
    "\n",
    "x= 6\n",
    "a= [2, 3, 1]\n",
    "\n",
    "x= 5\n",
    "a= [2, 3, 1]\n",
    "import copy    \n",
    "def tripletSum(x, a):\n",
    "    temp = copy.deepcopy(a)\n",
    "\n",
    "    a1 = [x-i for i in a]\n",
    "    print a1\n",
    "    l = len(a)\n",
    "    for ii in range(0,l):\n",
    "        for jj in range(ii+1,l):\n",
    "            #print len(a)\n",
    "            if ii!=jj and a[ii]+a[jj] in a1:\n",
    "                e1 = a[ii]\n",
    "                e2 = a[jj]\n",
    "                e3 = x-(e1+e2)\n",
    "                temp.remove(e1)\n",
    "                #print a            \n",
    "                temp.remove(e2)\n",
    "                #print a\n",
    "                if e3 in temp:\n",
    "                    print e1,e2,e3\n",
    "                    return True\n",
    "                else:\n",
    "                    temp = copy.deepcopy(a)\n",
    "            temp = copy.deepcopy(a)\n",
    "    return False\n",
    "                \n",
    "print tripletSum(x, a)       "
   ]
  },
  {
   "cell_type": "code",
   "execution_count": 62,
   "metadata": {
    "collapsed": false
   },
   "outputs": [
    {
     "name": "stdout",
     "output_type": "stream",
     "text": [
      "[3, 2, 4]\n",
      "False\n"
     ]
    }
   ],
   "source": [
    "x= 6\n",
    "a= [2, 3, 1]\n",
    "\n",
    "x= 5\n",
    "a= [2, 3, 1]\n",
    "import copy    \n",
    "def tripletSum(x, a):\n",
    "    temp = copy.deepcopy(a)\n",
    "\n",
    "    a1 = [x-i for i in a]\n",
    "    print a1\n",
    "    l = len(a)\n",
    "    d = {}\n",
    "    for ii in range(0,l):\n",
    "        for jj in range(ii+1,l):\n",
    "            #print len(a)\n",
    "            if ii!=jj:\n",
    "                d[a[ii]+a[jj]] = (a[ii],a[jj])\n",
    "            \n",
    "            \n",
    "    for ii in a1:\n",
    "        try:\n",
    "            ii,jj = d[ii]\n",
    "            e1 = ii\n",
    "            e2 = jj\n",
    "            e3 = x-(e1+e2)\n",
    "            temp.remove(e1)\n",
    "            #print a            \n",
    "            temp.remove(e2)\n",
    "            #print a\n",
    "            if e3 in temp:\n",
    "                print e1,e2,e3\n",
    "                return True\n",
    "            else:\n",
    "                temp = copy.deepcopy(a)\n",
    "        except:\n",
    "            temp = copy.deepcopy(a)\n",
    "            \n",
    "\n",
    "    return False\n",
    "                \n",
    "print tripletSum(x, a) "
   ]
  },
  {
   "cell_type": "markdown",
   "metadata": {
    "collapsed": true
   },
   "source": [
    "## example 5 - easy\n",
    "\n",
    "You have two integer arrays, a and b, and an integer target value v. Determine whether there is a pair of numbers, where one number is taken from a and the other from b, that can be added together to get a sum of v. Return true if such a pair exists, otherwise return false.\n",
    "\n",
    "Example\n",
    "\n",
    "For a = [1, 2, 3], b = [10, 20, 30, 40], and v = 42, the output should be\n",
    "sumOfTwo(a, b, v) = true."
   ]
  },
  {
   "cell_type": "code",
   "execution_count": 35,
   "metadata": {
    "collapsed": false
   },
   "outputs": [
    {
     "name": "stdout",
     "output_type": "stream",
     "text": [
      "True\n"
     ]
    }
   ],
   "source": [
    "a = [1, 0, 3]\n",
    "b = [10, 0, 30, 40]\n",
    "v = 0\n",
    "def sumOfTwo(a, b, v):\n",
    "\n",
    "    a = [i for i in a if i<v+1]\n",
    "    b = [i for i in b if i<v+1]\n",
    "    b = [v-i for i in b]\n",
    "    a = list(set(a))\n",
    "    b = list(set(b))\n",
    "    if len(a)==0 | len(b)==0:\n",
    "        return False\n",
    "    \n",
    "    if len(list(set(b+a)))<len(a)+len(b):\n",
    "        return True\n",
    "    else:\n",
    "        return False\n",
    "print sumOfTwo(a, b, v)"
   ]
  },
  {
   "cell_type": "markdown",
   "metadata": {},
   "source": [
    "## example 6 - easy\n",
    "\n",
    "Avoid using C++'s std::next_permutation or similar features in other languages to solve this challenge. Implement the algorithm yourself, since this is what you would be asked to do during a real interview.\n",
    "\n",
    "Given a string s, find all its potential permutations. The output should be sorted in lexicographical order.\n",
    "\n",
    "Example\n",
    "\n",
    "For s = \"CBA\", the output should be\n",
    "stringPermutations(s) = [\"ABC\", \"ACB\", \"BAC\", \"BCA\", \"CAB\", \"CBA\"];\n",
    "For s = \"ABA\", the output should be\n",
    "stringPermutations(s) = [\"AAB\", \"ABA\", \"BAA\"]."
   ]
  },
  {
   "cell_type": "code",
   "execution_count": null,
   "metadata": {
    "collapsed": true
   },
   "outputs": [],
   "source": []
  }
 ],
 "metadata": {
  "anaconda-cloud": {},
  "kernelspec": {
   "display_name": "Python 2",
   "language": "python",
   "name": "python2"
  },
  "language_info": {
   "codemirror_mode": {
    "name": "ipython",
    "version": 2
   },
   "file_extension": ".py",
   "mimetype": "text/x-python",
   "name": "python",
   "nbconvert_exporter": "python",
   "pygments_lexer": "ipython2",
   "version": "2.7.13"
  }
 },
 "nbformat": 4,
 "nbformat_minor": 1
}
